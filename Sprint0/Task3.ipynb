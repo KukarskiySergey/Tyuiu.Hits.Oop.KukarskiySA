{
 "cells": [
  {
   "cell_type": "markdown",
   "metadata": {},
   "source": [
    "<h1 style=\"color:DodgerBlue\">Индивидальный проект</h1>"
   ]
  },
  {
   "cell_type": "markdown",
   "metadata": {},
   "source": [
    "<h2 style=\"color:DodgerBlue\">Название проекта:</h2>\n",
    "\n",
    "----\n",
    "\n",
    "### Вариант задания \n"
   ]
  },
  {
   "cell_type": "markdown",
   "metadata": {},
   "source": [
    "<h2 style=\"color:DodgerBlue\">Описание проекта:</h2>\n",
    "\n",
    "----\n",
    "\n",
    "[ваш текст]\n"
   ]
  },
  {
   "cell_type": "markdown",
   "metadata": {},
   "source": [
    "<h2 style=\"color:DodgerBlue\">Реализация:</h2>\n",
    "\n",
    "----"
   ]
  },
  {
   "cell_type": "code",
   "execution_count": 1,
   "metadata": {
    "dotnet_interactive": {
     "language": "csharp"
    },
    "polyglot_notebook": {
     "kernelName": "csharp"
    }
   },
   "outputs": [
    {
     "name": "stdout",
     "output_type": "stream",
     "text": [
      "🔧 Создаем клиентов и демонстрируем полиморфизм...\n",
      "\n",
      "Email обновлен на: maria.new@email.com\n",
      "Дата последнего обновления email: 2025-09-22 00:29\n",
      "\n",
      "============================================================\n",
      "=== ПОЛИМОРФИЗМ: Вызов ViewProfile() для разных типов ===\n",
      "============================================================\n",
      "\n",
      "ID: 1\n",
      "Имя: Алексей Иванов\n",
      "Email: alex@vip.com\n",
      "Баланс лояльности: 5000 баллов\n",
      "🌟 Это VIP-клиент!\n",
      "--------------------------------------------------\n",
      "\n",
      "ID: 2\n",
      "Имя: Мария Петрова\n",
      "Email: maria.new@email.com\n",
      "Дата регистрации: 2023-01-15\n",
      "Последнее обновление email: 2025-09-22 00:29\n",
      "--------------------------------------------------\n",
      "\n",
      "ID группы: 3\n",
      "Название: Группа: Команда 'Звезды'\n",
      "Контактный email: team@stars.com\n",
      "👥 Это групповой клиент.\n",
      "--------------------------------------------------\n",
      "\n"
     ]
    }
   ],
   "source": [
    "public class Customer\n",
    "{\n",
    "    public int CustomerId { get; set; }\n",
    "    public string Name { get; set; }\n",
    "    public string Email { get; set; }\n",
    "\n",
    "    public Customer(int customerId, string name, string email)\n",
    "    {\n",
    "        CustomerId = customerId;\n",
    "        Name = name;\n",
    "        Email = email;\n",
    "    }\n",
    "\n",
    "    public virtual string GetFullName()\n",
    "    {\n",
    "        return Name;\n",
    "    }\n",
    "\n",
    "    public virtual void UpdateEmail(string newEmail)\n",
    "    {\n",
    "        Email = newEmail;\n",
    "        Console.WriteLine($\"Email обновлен на: {Email}\");\n",
    "    }\n",
    "\n",
    "    public virtual void ViewProfile()\n",
    "    {\n",
    "        Console.WriteLine($\"ID: {CustomerId}\");\n",
    "        Console.WriteLine($\"Имя: {GetFullName()}\");\n",
    "        Console.WriteLine($\"Email: {Email}\");\n",
    "    }\n",
    "}\n",
    "\n",
    "public class VipCustomer : Customer\n",
    "{\n",
    "    public int LoyaltyPoints { get; set; }\n",
    "\n",
    "    public VipCustomer(int customerId, string name, string email, int loyaltyPoints)\n",
    "        : base(customerId, name, email)\n",
    "    {\n",
    "        LoyaltyPoints = loyaltyPoints;\n",
    "    }\n",
    "\n",
    "    public override void ViewProfile()\n",
    "    {\n",
    "        base.ViewProfile();\n",
    "        Console.WriteLine($\"Баланс лояльности: {LoyaltyPoints} баллов\");\n",
    "        Console.WriteLine(\"🌟 Это VIP-клиент!\");\n",
    "    }\n",
    "}\n",
    "\n",
    "public class RegularCustomer : Customer\n",
    "{\n",
    "    public DateTime RegistrationDate { get; set; }\n",
    "    public DateTime? LastEmailUpdate { get; private set; }\n",
    "\n",
    "    public RegularCustomer(int customerId, string name, string email, DateTime registrationDate)\n",
    "        : base(customerId, name, email)\n",
    "    {\n",
    "        RegistrationDate = registrationDate;\n",
    "    }\n",
    "\n",
    "    public override void UpdateEmail(string newEmail)\n",
    "    {\n",
    "        base.UpdateEmail(newEmail);\n",
    "        LastEmailUpdate = DateTime.Now;\n",
    "        Console.WriteLine($\"Дата последнего обновления email: {LastEmailUpdate:yyyy-MM-dd HH:mm}\");\n",
    "    }\n",
    "\n",
    "    public override void ViewProfile()\n",
    "    {\n",
    "        base.ViewProfile();\n",
    "        Console.WriteLine($\"Дата регистрации: {RegistrationDate:yyyy-MM-dd}\");\n",
    "        if (LastEmailUpdate.HasValue)\n",
    "            Console.WriteLine($\"Последнее обновление email: {LastEmailUpdate:yyyy-MM-dd HH:mm}\");\n",
    "    }\n",
    "}\n",
    "\n",
    "public class GroupCustomer : Customer\n",
    "{\n",
    "    public string GroupName { get; set; }\n",
    "\n",
    "    public GroupCustomer(int customerId, string groupName, string email)\n",
    "        : base(customerId, groupName, email)\n",
    "    {\n",
    "        GroupName = groupName;\n",
    "    }\n",
    "\n",
    "    public override string GetFullName()\n",
    "    {\n",
    "        return $\"Группа: {GroupName}\";\n",
    "    }\n",
    "\n",
    "    public override void ViewProfile()\n",
    "    {\n",
    "        Console.WriteLine($\"ID группы: {CustomerId}\");\n",
    "        Console.WriteLine($\"Название: {GetFullName()}\");\n",
    "        Console.WriteLine($\"Контактный email: {Email}\");\n",
    "        Console.WriteLine(\"👥 Это групповой клиент.\");\n",
    "    }\n",
    "}\n",
    "\n",
    "Console.WriteLine(\"🔧 Создаем клиентов и демонстрируем полиморфизм...\\n\");\n",
    "\n",
    "var vip = new VipCustomer(1, \"Алексей Иванов\", \"alex@vip.com\", 5000);\n",
    "var regular = new RegularCustomer(2, \"Мария Петрова\", \"maria@email.com\", new DateTime(2023, 1, 15));\n",
    "var group = new GroupCustomer(3, \"Команда 'Звезды'\", \"team@stars.com\");\n",
    "\n",
    "regular.UpdateEmail(\"maria.new@email.com\");\n",
    "\n",
    "Console.WriteLine(\"\\n\" + new string('=', 60));\n",
    "Console.WriteLine(\"=== ПОЛИМОРФИЗМ: Вызов ViewProfile() для разных типов ===\");\n",
    "Console.WriteLine(new string('=', 60) + \"\\n\");\n",
    "\n",
    "Customer[] customers = { vip, regular, group };\n",
    "\n",
    "foreach (var customer in customers)\n",
    "{\n",
    "    customer.ViewProfile();\n",
    "    Console.WriteLine(new string('-', 50) + \"\\n\");\n",
    "}"
   ]
  }
 ],
 "metadata": {
  "kernelspec": {
   "display_name": ".NET (C#)",
   "language": "C#",
   "name": ".net-csharp"
  },
  "polyglot_notebook": {
   "kernelInfo": {
    "defaultKernelName": "csharp",
    "items": [
     {
      "aliases": [],
      "languageName": "csharp",
      "name": "csharp"
     }
    ]
   }
  }
 },
 "nbformat": 4,
 "nbformat_minor": 2
}
